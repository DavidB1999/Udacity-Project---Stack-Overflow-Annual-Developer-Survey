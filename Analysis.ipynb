{
 "cells": [
  {
   "cell_type": "markdown",
   "id": "be506f8f",
   "metadata": {},
   "source": [
    "# Stack-Overflow Annual Developer Survey Analyis\n"
   ]
  },
  {
   "cell_type": "markdown",
   "id": "ba1a6d65",
   "metadata": {},
   "source": [
    "## Exploratory Data Analysis"
   ]
  },
  {
   "cell_type": "markdown",
   "id": "c20133ac",
   "metadata": {},
   "source": [
    "## Model development"
   ]
  },
  {
   "cell_type": "markdown",
   "id": "a1d6532a",
   "metadata": {},
   "source": [
    "## Prediction Scenario"
   ]
  }
 ],
 "metadata": {
  "kernelspec": {
   "display_name": "venv_uda_2_6",
   "language": "python",
   "name": "python3"
  },
  "language_info": {
   "codemirror_mode": {
    "name": "ipython",
    "version": 3
   },
   "file_extension": ".py",
   "mimetype": "text/x-python",
   "name": "python",
   "nbconvert_exporter": "python",
   "pygments_lexer": "ipython3",
   "version": "3.11.1"
  }
 },
 "nbformat": 4,
 "nbformat_minor": 5
}
