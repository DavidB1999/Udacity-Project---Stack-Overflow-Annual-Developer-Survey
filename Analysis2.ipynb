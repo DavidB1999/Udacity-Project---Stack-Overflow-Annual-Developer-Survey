{
 "cells": [
  {
   "cell_type": "markdown",
   "id": "d5bc9ce7",
   "metadata": {},
   "source": [
    "# Stack-Overflow Annual Developer Survey Analyis\n"
   ]
  },
  {
   "cell_type": "markdown",
   "id": "6ae71e68",
   "metadata": {},
   "source": [
    "Within this Analysis I analyze what influences Salary within developer jobs. <br>\n",
    "The goal is to develop a model that could potentially *help employees estimate their worth* and *employers plan their expense* in a market that is sometimes intransparent in regards to salary."
   ]
  },
  {
   "cell_type": "code",
   "execution_count": 2,
   "id": "e256c7dd",
   "metadata": {},
   "outputs": [],
   "source": [
    "# Import all packages needed\n",
    "import pandas as pd\n",
    "import numpy as np\n",
    "import seaborn as sb\n",
    "import matplotlib.pyplot as plt\n",
    "from pandas.plotting import scatter_matrix\n",
    "from sklearn.preprocessing import OrdinalEncoder, OneHotEncoder\n",
    "from sklearn.tree import DecisionTreeRegressor, plot_tree \n",
    "from sklearn.model_selection import train_test_split, GridSearchCV\n",
    "from sklearn.impute import SimpleImputer\n",
    "from sklearn.pipeline import Pipeline\n",
    "from sklearn.compose import ColumnTransformer\n",
    "from sklearn.metrics import mean_squared_error\n",
    "from sklearn.ensemble import RandomForestRegressor\n",
    "from sklearn.linear_model import LinearRegression\n",
    "\n"
   ]
  },
  {
   "cell_type": "code",
   "execution_count": 3,
   "id": "e5f2c8b6",
   "metadata": {},
   "outputs": [
    {
     "data": {
      "text/html": [
       "<div>\n",
       "<style scoped>\n",
       "    .dataframe tbody tr th:only-of-type {\n",
       "        vertical-align: middle;\n",
       "    }\n",
       "\n",
       "    .dataframe tbody tr th {\n",
       "        vertical-align: top;\n",
       "    }\n",
       "\n",
       "    .dataframe thead th {\n",
       "        text-align: right;\n",
       "    }\n",
       "</style>\n",
       "<table border=\"1\" class=\"dataframe\">\n",
       "  <thead>\n",
       "    <tr style=\"text-align: right;\">\n",
       "      <th></th>\n",
       "      <th>qid</th>\n",
       "      <th>qname</th>\n",
       "      <th>question</th>\n",
       "      <th>force_resp</th>\n",
       "      <th>type</th>\n",
       "      <th>selector</th>\n",
       "    </tr>\n",
       "  </thead>\n",
       "  <tbody>\n",
       "    <tr>\n",
       "      <th>0</th>\n",
       "      <td>QID2</td>\n",
       "      <td>MainBranch</td>\n",
       "      <td>Which of the following options best describes ...</td>\n",
       "      <td>True</td>\n",
       "      <td>MC</td>\n",
       "      <td>SAVR</td>\n",
       "    </tr>\n",
       "    <tr>\n",
       "      <th>1</th>\n",
       "      <td>QID127</td>\n",
       "      <td>Age</td>\n",
       "      <td>What is your age?*</td>\n",
       "      <td>True</td>\n",
       "      <td>MC</td>\n",
       "      <td>SAVR</td>\n",
       "    </tr>\n",
       "    <tr>\n",
       "      <th>2</th>\n",
       "      <td>QID296</td>\n",
       "      <td>Employment</td>\n",
       "      <td>Which of the following best describes your cur...</td>\n",
       "      <td>True</td>\n",
       "      <td>MC</td>\n",
       "      <td>MAVR</td>\n",
       "    </tr>\n",
       "    <tr>\n",
       "      <th>3</th>\n",
       "      <td>QID308</td>\n",
       "      <td>RemoteWork</td>\n",
       "      <td>Which best describes your current work situation?</td>\n",
       "      <td>False</td>\n",
       "      <td>MC</td>\n",
       "      <td>SAVR</td>\n",
       "    </tr>\n",
       "    <tr>\n",
       "      <th>4</th>\n",
       "      <td>QID341</td>\n",
       "      <td>Check</td>\n",
       "      <td>Just checking to make sure you are paying atte...</td>\n",
       "      <td>True</td>\n",
       "      <td>MC</td>\n",
       "      <td>SAVR</td>\n",
       "    </tr>\n",
       "  </tbody>\n",
       "</table>\n",
       "</div>"
      ],
      "text/plain": [
       "      qid       qname                                           question  \\\n",
       "0    QID2  MainBranch  Which of the following options best describes ...   \n",
       "1  QID127         Age                                 What is your age?*   \n",
       "2  QID296  Employment  Which of the following best describes your cur...   \n",
       "3  QID308  RemoteWork  Which best describes your current work situation?   \n",
       "4  QID341       Check  Just checking to make sure you are paying atte...   \n",
       "\n",
       "  force_resp type selector  \n",
       "0       True   MC     SAVR  \n",
       "1       True   MC     SAVR  \n",
       "2       True   MC     MAVR  \n",
       "3      False   MC     SAVR  \n",
       "4       True   MC     SAVR  "
      ]
     },
     "execution_count": 3,
     "metadata": {},
     "output_type": "execute_result"
    }
   ],
   "source": [
    "# Load survey schema\n",
    "\n",
    "schema = pd.read_csv('data/survey_results_schema.csv')\n",
    "schema.head()"
   ]
  },
  {
   "cell_type": "code",
   "execution_count": 4,
   "id": "a557f603",
   "metadata": {},
   "outputs": [
    {
     "data": {
      "text/html": [
       "<div>\n",
       "<style scoped>\n",
       "    .dataframe tbody tr th:only-of-type {\n",
       "        vertical-align: middle;\n",
       "    }\n",
       "\n",
       "    .dataframe tbody tr th {\n",
       "        vertical-align: top;\n",
       "    }\n",
       "\n",
       "    .dataframe thead th {\n",
       "        text-align: right;\n",
       "    }\n",
       "</style>\n",
       "<table border=\"1\" class=\"dataframe\">\n",
       "  <thead>\n",
       "    <tr style=\"text-align: right;\">\n",
       "      <th></th>\n",
       "      <th>ResponseId</th>\n",
       "      <th>MainBranch</th>\n",
       "      <th>Age</th>\n",
       "      <th>Employment</th>\n",
       "      <th>RemoteWork</th>\n",
       "      <th>Check</th>\n",
       "      <th>CodingActivities</th>\n",
       "      <th>EdLevel</th>\n",
       "      <th>LearnCode</th>\n",
       "      <th>LearnCodeOnline</th>\n",
       "      <th>...</th>\n",
       "      <th>JobSatPoints_6</th>\n",
       "      <th>JobSatPoints_7</th>\n",
       "      <th>JobSatPoints_8</th>\n",
       "      <th>JobSatPoints_9</th>\n",
       "      <th>JobSatPoints_10</th>\n",
       "      <th>JobSatPoints_11</th>\n",
       "      <th>SurveyLength</th>\n",
       "      <th>SurveyEase</th>\n",
       "      <th>ConvertedCompYearly</th>\n",
       "      <th>JobSat</th>\n",
       "    </tr>\n",
       "  </thead>\n",
       "  <tbody>\n",
       "    <tr>\n",
       "      <th>0</th>\n",
       "      <td>1</td>\n",
       "      <td>I am a developer by profession</td>\n",
       "      <td>Under 18 years old</td>\n",
       "      <td>Employed, full-time</td>\n",
       "      <td>Remote</td>\n",
       "      <td>Apples</td>\n",
       "      <td>Hobby</td>\n",
       "      <td>Primary/elementary school</td>\n",
       "      <td>Books / Physical media</td>\n",
       "      <td>NaN</td>\n",
       "      <td>...</td>\n",
       "      <td>NaN</td>\n",
       "      <td>NaN</td>\n",
       "      <td>NaN</td>\n",
       "      <td>NaN</td>\n",
       "      <td>NaN</td>\n",
       "      <td>NaN</td>\n",
       "      <td>NaN</td>\n",
       "      <td>NaN</td>\n",
       "      <td>NaN</td>\n",
       "      <td>NaN</td>\n",
       "    </tr>\n",
       "    <tr>\n",
       "      <th>1</th>\n",
       "      <td>2</td>\n",
       "      <td>I am a developer by profession</td>\n",
       "      <td>35-44 years old</td>\n",
       "      <td>Employed, full-time</td>\n",
       "      <td>Remote</td>\n",
       "      <td>Apples</td>\n",
       "      <td>Hobby;Contribute to open-source projects;Other...</td>\n",
       "      <td>Bachelor’s degree (B.A., B.S., B.Eng., etc.)</td>\n",
       "      <td>Books / Physical media;Colleague;On the job tr...</td>\n",
       "      <td>Technical documentation;Blogs;Books;Written Tu...</td>\n",
       "      <td>...</td>\n",
       "      <td>0.0</td>\n",
       "      <td>0.0</td>\n",
       "      <td>0.0</td>\n",
       "      <td>0.0</td>\n",
       "      <td>0.0</td>\n",
       "      <td>0.0</td>\n",
       "      <td>NaN</td>\n",
       "      <td>NaN</td>\n",
       "      <td>NaN</td>\n",
       "      <td>NaN</td>\n",
       "    </tr>\n",
       "    <tr>\n",
       "      <th>2</th>\n",
       "      <td>3</td>\n",
       "      <td>I am a developer by profession</td>\n",
       "      <td>45-54 years old</td>\n",
       "      <td>Employed, full-time</td>\n",
       "      <td>Remote</td>\n",
       "      <td>Apples</td>\n",
       "      <td>Hobby;Contribute to open-source projects;Other...</td>\n",
       "      <td>Master’s degree (M.A., M.S., M.Eng., MBA, etc.)</td>\n",
       "      <td>Books / Physical media;Colleague;On the job tr...</td>\n",
       "      <td>Technical documentation;Blogs;Books;Written Tu...</td>\n",
       "      <td>...</td>\n",
       "      <td>NaN</td>\n",
       "      <td>NaN</td>\n",
       "      <td>NaN</td>\n",
       "      <td>NaN</td>\n",
       "      <td>NaN</td>\n",
       "      <td>NaN</td>\n",
       "      <td>Appropriate in length</td>\n",
       "      <td>Easy</td>\n",
       "      <td>NaN</td>\n",
       "      <td>NaN</td>\n",
       "    </tr>\n",
       "    <tr>\n",
       "      <th>3</th>\n",
       "      <td>4</td>\n",
       "      <td>I am learning to code</td>\n",
       "      <td>18-24 years old</td>\n",
       "      <td>Student, full-time</td>\n",
       "      <td>NaN</td>\n",
       "      <td>Apples</td>\n",
       "      <td>NaN</td>\n",
       "      <td>Some college/university study without earning ...</td>\n",
       "      <td>Other online resources (e.g., videos, blogs, f...</td>\n",
       "      <td>Stack Overflow;How-to videos;Interactive tutorial</td>\n",
       "      <td>...</td>\n",
       "      <td>NaN</td>\n",
       "      <td>NaN</td>\n",
       "      <td>NaN</td>\n",
       "      <td>NaN</td>\n",
       "      <td>NaN</td>\n",
       "      <td>NaN</td>\n",
       "      <td>Too long</td>\n",
       "      <td>Easy</td>\n",
       "      <td>NaN</td>\n",
       "      <td>NaN</td>\n",
       "    </tr>\n",
       "    <tr>\n",
       "      <th>4</th>\n",
       "      <td>5</td>\n",
       "      <td>I am a developer by profession</td>\n",
       "      <td>18-24 years old</td>\n",
       "      <td>Student, full-time</td>\n",
       "      <td>NaN</td>\n",
       "      <td>Apples</td>\n",
       "      <td>NaN</td>\n",
       "      <td>Secondary school (e.g. American high school, G...</td>\n",
       "      <td>Other online resources (e.g., videos, blogs, f...</td>\n",
       "      <td>Technical documentation;Blogs;Written Tutorial...</td>\n",
       "      <td>...</td>\n",
       "      <td>NaN</td>\n",
       "      <td>NaN</td>\n",
       "      <td>NaN</td>\n",
       "      <td>NaN</td>\n",
       "      <td>NaN</td>\n",
       "      <td>NaN</td>\n",
       "      <td>Too short</td>\n",
       "      <td>Easy</td>\n",
       "      <td>NaN</td>\n",
       "      <td>NaN</td>\n",
       "    </tr>\n",
       "  </tbody>\n",
       "</table>\n",
       "<p>5 rows × 114 columns</p>\n",
       "</div>"
      ],
      "text/plain": [
       "   ResponseId                      MainBranch                 Age  \\\n",
       "0           1  I am a developer by profession  Under 18 years old   \n",
       "1           2  I am a developer by profession     35-44 years old   \n",
       "2           3  I am a developer by profession     45-54 years old   \n",
       "3           4           I am learning to code     18-24 years old   \n",
       "4           5  I am a developer by profession     18-24 years old   \n",
       "\n",
       "            Employment RemoteWork   Check  \\\n",
       "0  Employed, full-time     Remote  Apples   \n",
       "1  Employed, full-time     Remote  Apples   \n",
       "2  Employed, full-time     Remote  Apples   \n",
       "3   Student, full-time        NaN  Apples   \n",
       "4   Student, full-time        NaN  Apples   \n",
       "\n",
       "                                    CodingActivities  \\\n",
       "0                                              Hobby   \n",
       "1  Hobby;Contribute to open-source projects;Other...   \n",
       "2  Hobby;Contribute to open-source projects;Other...   \n",
       "3                                                NaN   \n",
       "4                                                NaN   \n",
       "\n",
       "                                             EdLevel  \\\n",
       "0                          Primary/elementary school   \n",
       "1       Bachelor’s degree (B.A., B.S., B.Eng., etc.)   \n",
       "2    Master’s degree (M.A., M.S., M.Eng., MBA, etc.)   \n",
       "3  Some college/university study without earning ...   \n",
       "4  Secondary school (e.g. American high school, G...   \n",
       "\n",
       "                                           LearnCode  \\\n",
       "0                             Books / Physical media   \n",
       "1  Books / Physical media;Colleague;On the job tr...   \n",
       "2  Books / Physical media;Colleague;On the job tr...   \n",
       "3  Other online resources (e.g., videos, blogs, f...   \n",
       "4  Other online resources (e.g., videos, blogs, f...   \n",
       "\n",
       "                                     LearnCodeOnline  ... JobSatPoints_6  \\\n",
       "0                                                NaN  ...            NaN   \n",
       "1  Technical documentation;Blogs;Books;Written Tu...  ...            0.0   \n",
       "2  Technical documentation;Blogs;Books;Written Tu...  ...            NaN   \n",
       "3  Stack Overflow;How-to videos;Interactive tutorial  ...            NaN   \n",
       "4  Technical documentation;Blogs;Written Tutorial...  ...            NaN   \n",
       "\n",
       "  JobSatPoints_7 JobSatPoints_8 JobSatPoints_9 JobSatPoints_10  \\\n",
       "0            NaN            NaN            NaN             NaN   \n",
       "1            0.0            0.0            0.0             0.0   \n",
       "2            NaN            NaN            NaN             NaN   \n",
       "3            NaN            NaN            NaN             NaN   \n",
       "4            NaN            NaN            NaN             NaN   \n",
       "\n",
       "  JobSatPoints_11           SurveyLength SurveyEase ConvertedCompYearly JobSat  \n",
       "0             NaN                    NaN        NaN                 NaN    NaN  \n",
       "1             0.0                    NaN        NaN                 NaN    NaN  \n",
       "2             NaN  Appropriate in length       Easy                 NaN    NaN  \n",
       "3             NaN               Too long       Easy                 NaN    NaN  \n",
       "4             NaN              Too short       Easy                 NaN    NaN  \n",
       "\n",
       "[5 rows x 114 columns]"
      ]
     },
     "execution_count": 4,
     "metadata": {},
     "output_type": "execute_result"
    }
   ],
   "source": [
    "# Load data\n",
    "\n",
    "df = pd.read_csv('data/survey_results_public.csv')\n",
    "df.head()"
   ]
  },
  {
   "cell_type": "markdown",
   "id": "efe0ba88",
   "metadata": {},
   "source": [
    "----------------------------"
   ]
  },
  {
   "cell_type": "markdown",
   "id": "1c553f91",
   "metadata": {},
   "source": [
    "--------------------"
   ]
  },
  {
   "cell_type": "markdown",
   "id": "9586e16c",
   "metadata": {},
   "source": [
    "## 1. Exploratory Data Analysis"
   ]
  },
  {
   "cell_type": "markdown",
   "id": "eea1b9dc",
   "metadata": {},
   "source": [
    "Check the PDF of the Survey that comes with the data for a detailed understanding of the survey and its questions (i.e. potential features and targets)."
   ]
  },
  {
   "cell_type": "markdown",
   "id": "7bc63f98",
   "metadata": {},
   "source": [
    "#### Check the target = Salary\n",
    "`ConvertedCompYearly`"
   ]
  },
  {
   "cell_type": "code",
   "execution_count": 5,
   "id": "24736bbb",
   "metadata": {},
   "outputs": [
    {
     "name": "stdout",
     "output_type": "stream",
     "text": [
      "Rows without salary information 42002\n"
     ]
    },
    {
     "data": {
      "text/plain": [
       "count    2.343500e+04\n",
       "mean     8.615529e+04\n",
       "std      1.867570e+05\n",
       "min      1.000000e+00\n",
       "25%      3.271200e+04\n",
       "50%      6.500000e+04\n",
       "75%      1.079715e+05\n",
       "max      1.625660e+07\n",
       "Name: ConvertedCompYearly, dtype: float64"
      ]
     },
     "execution_count": 5,
     "metadata": {},
     "output_type": "execute_result"
    }
   ],
   "source": [
    "# some simple descriptive statistics\n",
    "print(f'Rows without salary information {df.ConvertedCompYearly.isna().sum()}')\n",
    "df.ConvertedCompYearly.describe()"
   ]
  },
  {
   "cell_type": "code",
   "execution_count": 6,
   "id": "59c620a5",
   "metadata": {},
   "outputs": [
    {
     "data": {
      "image/png": "[encoded data removed]",
      "text/plain": [
       "<Figure size 1200x400 with 3 Axes>"
      ]
     },
     "metadata": {},
     "output_type": "display_data"
    }
   ],
   "source": [
    "# Check distribution of salary\n",
    "\n",
    "fig, axs = plt.subplots(1, 3, layout='constrained', figsize=(12, 4))\n",
    "axs[0].hist(df.ConvertedCompYearly, bins = 1000) \n",
    "axs[0].set_title('Historgram over Salary (all)')\n",
    "axs[1].hist(df.ConvertedCompYearly[df.ConvertedCompYearly < 1000000], bins = 100) \n",
    "axs[1].set_title('Historgram over Salary (< 1 Mio.)')\n",
    "axs[2].hist(df.ConvertedCompYearly[df.ConvertedCompYearly < 200000], bins = 100) \n",
    "axs[2].set_title('Historgram over Salary (< 200k)')\n",
    "\n",
    "plt.show()"
   ]
  },
  {
   "cell_type": "markdown",
   "id": "905c40ad",
   "metadata": {},
   "source": [
    "*Issues*  to consider:\n",
    "- Just a little more than 1/3 of the participants gave a salary.\n",
    "- Salary extremly skewed (potentially influential outliers)\n",
    "- A lot of participants gave unrealistically small salary (~ 0)\n"
   ]
  },
  {
   "cell_type": "code",
   "execution_count": 7,
   "id": "c10ecd08",
   "metadata": {},
   "outputs": [],
   "source": [
    "# Exploring Features only on rows with salary!\n",
    "df2 = df[df.ConvertedCompYearly.notna()].copy()"
   ]
  },
  {
   "cell_type": "code",
   "execution_count": 8,
   "id": "747e3bf8",
   "metadata": {},
   "outputs": [
    {
     "name": "stdout",
     "output_type": "stream",
     "text": [
      "ConvertedCompYearly\n",
      "1.0     16\n",
      "2.0      5\n",
      "3.0      5\n",
      "5.0      5\n",
      "12.0     5\n",
      "        ..\n",
      "59.0     1\n",
      "65.0     1\n",
      "83.0     1\n",
      "52.0     1\n",
      "63.0     1\n",
      "Name: count, Length: 71, dtype: int64\n"
     ]
    },
    {
     "data": {
      "text/plain": [
       "(23272, 114)"
      ]
     },
     "execution_count": 8,
     "metadata": {},
     "output_type": "execute_result"
    }
   ],
   "source": [
    "print(df2[df2.ConvertedCompYearly < 100].ConvertedCompYearly.value_counts())\n",
    "# salary < 500$ seems unrealistic for a full time job even in low income countries --> exclude\n",
    "\n",
    "df2 = df2[df2.ConvertedCompYearly > 100]\n",
    "df2.shape"
   ]
  },
  {
   "cell_type": "markdown",
   "id": "1dadc438",
   "metadata": {},
   "source": [
    "------------------------------------------------------------------------------------------------------------------------------"
   ]
  },
  {
   "cell_type": "markdown",
   "id": "83903e79",
   "metadata": {},
   "source": [
    "#### Potential features examination\n",
    "\n",
    "To keep the model relatively simple, interpretable and usable for prediction features will only include the first two sections of the survey (1. Basic Information & 2 - Education + Work + Career.) <br>\n",
    "Additionally questions `BuyNewTool`, `BuildvsBuy`, `TechEndorse` will be excluded for two main reasons:\n",
    "1. No logical reason why they should influence salary\n",
    "2. And more importantly, not really applicable when trying to predict an appropriate salary\n",
    "\n",
    "`Currency` will be excluded as Salary in target is converted already and besides conversion, currency mostly represents duplicate information with country.\n",
    "\n",
    "`LearnCodeOnline` will be excluded as it is clearly secondary information to `LearnCode`.\n",
    "\n",
    "`TechDoc` will be excluded. This might indirectly represent a devs abilities or style of work but seems like in theory it should not *directly* influence salary.\n"
   ]
  },
  {
   "cell_type": "code",
   "execution_count": 9,
   "id": "e3810baf",
   "metadata": {},
   "outputs": [
    {
     "data": {
      "text/plain": [
       "count      23272\n",
       "unique         1\n",
       "top       Apples\n",
       "freq       23272\n",
       "Name: Check, dtype: object"
      ]
     },
     "execution_count": 9,
     "metadata": {},
     "output_type": "execute_result"
    }
   ],
   "source": [
    "# make sure to only include those that passed the check of attention in survey\n",
    "# --> only those who pass can continue the survey so 100% pass in data\n",
    "df2.Check.describe()"
   ]
  },
  {
   "cell_type": "markdown",
   "id": "a50e1c25",
   "metadata": {},
   "source": [
    "##### `MainBranch` & `Emplyoment`\n",
    "Technically we only care about those who work as some sort of dev professionally as we want to determine what influences salary of a dev. For comparibility we stick to full time emplyoment."
   ]
  },
  {
   "cell_type": "code",
   "execution_count": 10,
   "id": "2be86724",
   "metadata": {},
   "outputs": [
    {
     "data": {
      "text/plain": [
       "(23272, 114)"
      ]
     },
     "execution_count": 10,
     "metadata": {},
     "output_type": "execute_result"
    }
   ],
   "source": [
    "# filter to keep only those working as some sort of dev professionally and being employed full time\n",
    "df3 = df2.copy()[\n",
    "    (df2['MainBranch'] == \"I am a developer by profession\") &\n",
    "    (df2['Employment'].str.contains(\"Employed, full-time\", na=False))\n",
    "]\n",
    "\n",
    "df2.shape"
   ]
  },
  {
   "cell_type": "code",
   "execution_count": 11,
   "id": "ef4aea5d",
   "metadata": {},
   "outputs": [
    {
     "data": {
      "text/plain": [
       "(18730, 12)"
      ]
     },
     "execution_count": 11,
     "metadata": {},
     "output_type": "execute_result"
    }
   ],
   "source": [
    "# preselection of features\n",
    "df3 = df3[['Age', 'RemoteWork', 'CodingActivities', 'EdLevel', 'LearnCode', 'YearsCode', 'YearsCodePro', 'DevType', 'OrgSize',\n",
    "       'PurchaseInfluence', 'Country', 'ConvertedCompYearly']]\n",
    "\n",
    "df3.shape"
   ]
  },
  {
   "cell_type": "code",
   "execution_count": 12,
   "id": "078627f3",
   "metadata": {},
   "outputs": [
    {
     "name": "stdout",
     "output_type": "stream",
     "text": [
      "<class 'pandas.core.frame.DataFrame'>\n",
      "Index: 18730 entries, 72 to 41187\n",
      "Data columns (total 12 columns):\n",
      " #   Column               Non-Null Count  Dtype  \n",
      "---  ------               --------------  -----  \n",
      " 0   Age                  18730 non-null  object \n",
      " 1   RemoteWork           18728 non-null  object \n",
      " 2   CodingActivities     18727 non-null  object \n",
      " 3   EdLevel              18730 non-null  object \n",
      " 4   LearnCode            18702 non-null  object \n",
      " 5   YearsCode            18693 non-null  object \n",
      " 6   YearsCodePro         18678 non-null  object \n",
      " 7   DevType              18706 non-null  object \n",
      " 8   OrgSize              18712 non-null  object \n",
      " 9   PurchaseInfluence    18702 non-null  object \n",
      " 10  Country              18730 non-null  object \n",
      " 11  ConvertedCompYearly  18730 non-null  float64\n",
      "dtypes: float64(1), object(11)\n",
      "memory usage: 1.9+ MB\n"
     ]
    }
   ],
   "source": [
    "df3.info()"
   ]
  },
  {
   "cell_type": "markdown",
   "id": "f210633f",
   "metadata": {},
   "source": [
    "##### `YearsCode` & `YearsCodePro`"
   ]
  },
  {
   "cell_type": "markdown",
   "id": "6354b0ed",
   "metadata": {},
   "source": [
    "Apart from our target all columns (features) are of datatype object. <br>\n",
    "`YearsCode` & `YearsCodePro` could technically be numerical. So lets check them:"
   ]
  },
  {
   "cell_type": "code",
   "execution_count": 13,
   "id": "5b99f840",
   "metadata": {},
   "outputs": [
    {
     "data": {
      "text/plain": [
       "YearsCode\n",
       "10                    1684\n",
       "8                     1205\n",
       "15                    1078\n",
       "7                     1062\n",
       "6                     1033\n",
       "12                     982\n",
       "20                     915\n",
       "5                      883\n",
       "9                      847\n",
       "14                     764\n",
       "4                      657\n",
       "11                     644\n",
       "13                     591\n",
       "25                     563\n",
       "16                     535\n",
       "18                     492\n",
       "17                     429\n",
       "30                     422\n",
       "3                      390\n",
       "22                     304\n",
       "24                     303\n",
       "40                     254\n",
       "19                     246\n",
       "23                     218\n",
       "26                     208\n",
       "21                     200\n",
       "35                     197\n",
       "2                      185\n",
       "27                     173\n",
       "28                     162\n",
       "32                     109\n",
       "34                      95\n",
       "29                      92\n",
       "38                      90\n",
       "42                      79\n",
       "33                      75\n",
       "45                      65\n",
       "37                      58\n",
       "43                      51\n",
       "44                      49\n",
       "36                      48\n",
       "31                      46\n",
       "39                      41\n",
       "41                      41\n",
       "1                       30\n",
       "More than 50 years      23\n",
       "46                      17\n",
       "Less than 1 year        14\n",
       "50                      13\n",
       "48                      13\n",
       "47                      11\n",
       "49                       7\n",
       "Name: count, dtype: int64"
      ]
     },
     "execution_count": 13,
     "metadata": {},
     "output_type": "execute_result"
    }
   ],
   "source": [
    "df3.YearsCode.unique()\n",
    "df3.YearsCode.value_counts()"
   ]
  },
  {
   "cell_type": "code",
   "execution_count": 14,
   "id": "e8a6df52",
   "metadata": {},
   "outputs": [
    {
     "data": {
      "text/plain": [
       "YearsCodePro\n",
       "3                     1601\n",
       "5                     1419\n",
       "2                     1416\n",
       "4                     1292\n",
       "6                     1236\n",
       "10                    1227\n",
       "8                     1104\n",
       "7                     1048\n",
       "12                     724\n",
       "1                      684\n",
       "9                      656\n",
       "15                     593\n",
       "11                     573\n",
       "13                     477\n",
       "20                     471\n",
       "14                     420\n",
       "Less than 1 year       403\n",
       "16                     369\n",
       "17                     324\n",
       "18                     313\n",
       "25                     309\n",
       "19                     210\n",
       "24                     190\n",
       "30                     174\n",
       "23                     172\n",
       "22                     168\n",
       "26                     155\n",
       "28                     131\n",
       "21                     130\n",
       "27                     117\n",
       "35                      76\n",
       "32                      65\n",
       "29                      60\n",
       "40                      53\n",
       "34                      49\n",
       "38                      39\n",
       "33                      37\n",
       "31                      35\n",
       "36                      32\n",
       "37                      32\n",
       "45                      18\n",
       "39                      18\n",
       "42                      14\n",
       "41                      11\n",
       "43                      11\n",
       "44                       8\n",
       "46                       5\n",
       "More than 50 years       3\n",
       "48                       2\n",
       "50                       2\n",
       "49                       1\n",
       "47                       1\n",
       "Name: count, dtype: int64"
      ]
     },
     "execution_count": 14,
     "metadata": {},
     "output_type": "execute_result"
    }
   ],
   "source": [
    "df3.YearsCodePro.value_counts()"
   ]
  },
  {
   "cell_type": "markdown",
   "id": "ca9d1bdf",
   "metadata": {},
   "source": [
    "We can clearly see that the format of the question allowed for or explictly offered answers that cannot be converted to float or integer. <br>\n",
    "These values make up only a fraction of the dataset but represent edge cases (<1 year and > 50 years). \n",
    "\n",
    "We have the option to exclude these values and convert the rest to integer or replace these values with an adequate integer. <br>\n",
    "To ensure that the model applies to people with very little or very much coding experience as well I am going to keep the edge cases and convert them to the next integer (i.e. < 1year &rarr; 0 and >50 &rarr; 51). <br>\n",
    "Furthermore I am going to treat years as continious variables."
   ]
  },
  {
   "cell_type": "code",
   "execution_count": 15,
   "id": "48752a17",
   "metadata": {},
   "outputs": [
    {
     "name": "stdout",
     "output_type": "stream",
     "text": [
      "<class 'pandas.core.frame.DataFrame'>\n",
      "Index: 18730 entries, 72 to 41187\n",
      "Data columns (total 12 columns):\n",
      " #   Column               Non-Null Count  Dtype  \n",
      "---  ------               --------------  -----  \n",
      " 0   Age                  18730 non-null  object \n",
      " 1   RemoteWork           18728 non-null  object \n",
      " 2   CodingActivities     18727 non-null  object \n",
      " 3   EdLevel              18730 non-null  object \n",
      " 4   LearnCode            18702 non-null  object \n",
      " 5   YearsCode            18730 non-null  int64  \n",
      " 6   YearsCodePro         18730 non-null  int64  \n",
      " 7   DevType              18706 non-null  object \n",
      " 8   OrgSize              18712 non-null  object \n",
      " 9   PurchaseInfluence    18702 non-null  object \n",
      " 10  Country              18730 non-null  object \n",
      " 11  ConvertedCompYearly  18730 non-null  float64\n",
      "dtypes: float64(1), int64(2), object(9)\n",
      "memory usage: 1.9+ MB\n",
      "YearsCode\n",
      "10    1684\n",
      "8     1205\n",
      "15    1078\n",
      "7     1062\n",
      "6     1033\n",
      "12     982\n",
      "20     915\n",
      "5      883\n",
      "9      847\n",
      "14     764\n",
      "4      657\n",
      "11     644\n",
      "13     591\n",
      "25     563\n",
      "16     535\n",
      "18     492\n",
      "17     429\n",
      "30     422\n",
      "3      390\n",
      "22     304\n",
      "24     303\n",
      "40     254\n",
      "19     246\n",
      "23     218\n",
      "26     208\n",
      "21     200\n",
      "35     197\n",
      "2      185\n",
      "27     173\n",
      "28     162\n",
      "32     109\n",
      "34      95\n",
      "29      92\n",
      "38      90\n",
      "42      79\n",
      "33      75\n",
      "45      65\n",
      "37      58\n",
      "0       51\n",
      "43      51\n",
      "44      49\n",
      "36      48\n",
      "31      46\n",
      "41      41\n",
      "39      41\n",
      "1       30\n",
      "51      23\n",
      "46      17\n",
      "50      13\n",
      "48      13\n",
      "47      11\n",
      "49       7\n",
      "Name: count, dtype: int64\n",
      "YearsCodePro\n",
      "3     1601\n",
      "5     1419\n",
      "2     1416\n",
      "4     1292\n",
      "6     1236\n",
      "10    1227\n",
      "8     1104\n",
      "7     1048\n",
      "12     724\n",
      "1      684\n",
      "9      656\n",
      "15     593\n",
      "11     573\n",
      "13     477\n",
      "20     471\n",
      "0      455\n",
      "14     420\n",
      "16     369\n",
      "17     324\n",
      "18     313\n",
      "25     309\n",
      "19     210\n",
      "24     190\n",
      "30     174\n",
      "23     172\n",
      "22     168\n",
      "26     155\n",
      "28     131\n",
      "21     130\n",
      "27     117\n",
      "35      76\n",
      "32      65\n",
      "29      60\n",
      "40      53\n",
      "34      49\n",
      "38      39\n",
      "33      37\n",
      "31      35\n",
      "36      32\n",
      "37      32\n",
      "45      18\n",
      "39      18\n",
      "42      14\n",
      "41      11\n",
      "43      11\n",
      "44       8\n",
      "46       5\n",
      "51       3\n",
      "48       2\n",
      "50       2\n",
      "49       1\n",
      "47       1\n",
      "Name: count, dtype: int64\n"
     ]
    }
   ],
   "source": [
    "# replace values\n",
    "\n",
    "df3.replace(\n",
    "    {'More than 50 years': '51', 'Less than 1 year': '0'}, inplace=True\n",
    ")\n",
    "\n",
    "# convert to int\n",
    "\n",
    "# Convert the two columns to integers\n",
    "df3['YearsCode'] = pd.to_numeric(df3['YearsCode'], errors='coerce').fillna(0).astype(int)\n",
    "df3['YearsCodePro'] = pd.to_numeric(df3['YearsCodePro'], errors='coerce').fillna(0).astype(int)\n",
    "\n",
    "# check if it worked\n",
    "df3.info()\n",
    "\n",
    "print(df3.YearsCode.value_counts())\n",
    " \n",
    "print(df3.YearsCodePro.value_counts())"
   ]
  },
  {
   "cell_type": "code",
   "execution_count": null,
   "id": "6e38c6e0",
   "metadata": {},
   "outputs": [
    {
     "data": {
      "text/plain": [
       "array([[<Axes: xlabel='YearsCode', ylabel='YearsCode'>,\n",
       "        <Axes: xlabel='YearsCodePro', ylabel='YearsCode'>,\n",
       "        <Axes: xlabel='ConvertedCompYearly', ylabel='YearsCode'>],\n",
       "       [<Axes: xlabel='YearsCode', ylabel='YearsCodePro'>,\n",
       "        <Axes: xlabel='YearsCodePro', ylabel='YearsCodePro'>,\n",
       "        <Axes: xlabel='ConvertedCompYearly', ylabel='YearsCodePro'>],\n",
       "       [<Axes: xlabel='YearsCode', ylabel='ConvertedCompYearly'>,\n",
       "        <Axes: xlabel='YearsCodePro', ylabel='ConvertedCompYearly'>,\n",
       "        <Axes: xlabel='ConvertedCompYearly', ylabel='ConvertedCompYearly'>]],\n",
       "      dtype=object)"
      ]
     },
     "metadata": {},
     "output_type": "display_data"
    },
    {
     "data": {
      "image/png": "[encoded data removed]",
      "text/plain": [
       "<Figure size 1200x1000 with 9 Axes>"
      ]
     },
     "metadata": {},
     "output_type": "display_data"
    }
   ],
   "source": [
    "scatter_matrix(df3[['YearsCode', 'YearsCodePro', 'ConvertedCompYearly']], figsize=(12, 10))"
   ]
  },
  {
   "cell_type": "markdown",
   "id": "7bc42ac8",
   "metadata": {},
   "source": [
    "We can see that both `YearsCode` and `YearsCodePro`have a right skewed distribution. <br>\n",
    "\n",
    "These two variables are clearly correlated &rarr; potentially colinearity <br>\n",
    "\n",
    "No clear relationship visible between `YearsCode` and `YearsCodePro` and our target. But might at least partially be obscured by the outliers <br>"
   ]
  },
  {
   "cell_type": "code",
   "execution_count": null,
   "id": "9fd96bdc",
   "metadata": {},
   "outputs": [
    {
     "name": "stdout",
     "output_type": "stream",
     "text": [
      "Age:\n",
      "Age\n",
      "25-34 years old       8799\n",
      "35-44 years old       4996\n",
      "18-24 years old       2545\n",
      "45-54 years old       1688\n",
      "55-64 years old        605\n",
      "65 years or older       72\n",
      "Under 18 years old      17\n",
      "Prefer not to say        8\n",
      "Name: count, dtype: int64\n",
      "RemoteWork:\n",
      "RemoteWork\n",
      "Hybrid (some remote, some in-person)    8049\n",
      "Remote                                  7510\n",
      "In-person                               3169\n",
      "Name: count, dtype: int64\n",
      "CodingActivities:\n",
      "CodingActivities\n",
      "Hobby                                                                                                                                                                                                      3705\n",
      "Hobby;Professional development or self-paced learning from online courses                                                                                                                                  2492\n",
      "I don’t code outside of work                                                                                                                                                                               2288\n",
      "Hobby;Contribute to open-source projects                                                                                                                                                                   1548\n",
      "Professional development or self-paced learning from online courses                                                                                                                                         999\n",
      "                                                                                                                                                                                                           ... \n",
      "Contribute to open-source projects;Other (please specify):;Bootstrapping a business;School or academic work;Professional development or self-paced learning from online courses;Freelance/contract work       1\n",
      "Hobby;Other (please specify):;Bootstrapping a business;Freelance/contract work                                                                                                                                1\n",
      "Hobby;Contribute to open-source projects;Other (please specify):;School or academic work;Professional development or self-paced learning from online courses;Freelance/contract work                          1\n",
      "Other (please specify):;School or academic work;Professional development or self-paced learning from online courses;Freelance/contract work                                                                   1\n",
      "Hobby;Contribute to open-source projects;Other (please specify):;School or academic work                                                                                                                      1\n",
      "Name: count, Length: 100, dtype: int64\n",
      "EdLevel:\n",
      "EdLevel\n",
      "Bachelor’s degree (B.A., B.S., B.Eng., etc.)                                          8745\n",
      "Master’s degree (M.A., M.S., M.Eng., MBA, etc.)                                       5462\n",
      "Some college/university study without earning a degree                                2108\n",
      "Secondary school (e.g. American high school, German Realschule or Gymnasium, etc.)     809\n",
      "Professional degree (JD, MD, Ph.D, Ed.D, etc.)                                         736\n",
      "Associate degree (A.A., A.S., etc.)                                                    611\n",
      "Something else                                                                         170\n",
      "Primary/elementary school                                                               89\n",
      "Name: count, dtype: int64\n",
      "LearnCode:\n",
      "LearnCode\n",
      "Other online resources (e.g., videos, blogs, forum, online community)                                                                                                                                                     817\n",
      "Books / Physical media;On the job training;Other online resources (e.g., videos, blogs, forum, online community);School (i.e., University, College, etc);Online Courses or Certification                                  706\n",
      "Books / Physical media;Other online resources (e.g., videos, blogs, forum, online community);Online Courses or Certification                                                                                              672\n",
      "Books / Physical media;Other online resources (e.g., videos, blogs, forum, online community)                                                                                                                              648\n",
      "On the job training;Other online resources (e.g., videos, blogs, forum, online community);Online Courses or Certification                                                                                                 587\n",
      "                                                                                                                                                                                                                         ... \n",
      "Books / Physical media;Other online resources (e.g., videos, blogs, forum, online community);School (i.e., University, College, etc);Online Courses or Certification;Coding Bootcamp;Other (please specify):                1\n",
      "Colleague;School (i.e., University, College, etc);Friend or family member                                                                                                                                                   1\n",
      "Books / Physical media;Colleague;Other online resources (e.g., videos, blogs, forum, online community);School (i.e., University, College, etc);Online Courses or Certification;Coding Bootcamp;Other (please specify):      1\n",
      "Other online resources (e.g., videos, blogs, forum, online community);School (i.e., University, College, etc);Coding Bootcamp;Other (please specify):                                                                       1\n",
      "Books / Physical media;Colleague;On the job training;Online Courses or Certification;Coding Bootcamp;Friend or family member;Other (please specify):                                                                        1\n",
      "Name: count, Length: 347, dtype: int64\n",
      "DevType:\n",
      "DevType\n",
      "Developer, full-stack                            7033\n",
      "Developer, back-end                              4212\n",
      "Developer, front-end                             1223\n",
      "Developer, desktop or enterprise applications     893\n",
      "Developer, mobile                                 704\n",
      "Developer, embedded applications or devices       662\n",
      "Data engineer                                     468\n",
      "Engineering manager                               465\n",
      "Other (please specify):                           382\n",
      "DevOps specialist                                 335\n",
      "Data scientist or machine learning specialist     331\n",
      "Research & Development role                       291\n",
      "Cloud infrastructure engineer                     210\n",
      "Senior Executive (C-Suite, VP, etc.)              207\n",
      "Developer, AI                                     164\n",
      "Developer, game or graphics                       159\n",
      "Developer, QA or test                             148\n",
      "Academic researcher                               122\n",
      "Engineer, site reliability                         89\n",
      "Developer Experience                               76\n",
      "Data or business analyst                           73\n",
      "Blockchain                                         62\n",
      "Project manager                                    57\n",
      "Scientist                                          44\n",
      "Product manager                                    44\n",
      "Security professional                              44\n",
      "System administrator                               38\n",
      "Hardware Engineer                                  38\n",
      "Developer Advocate                                 37\n",
      "Educator                                           33\n",
      "Database administrator                             26\n",
      "Student                                            23\n",
      "Designer                                           12\n",
      "Marketing or sales professional                     1\n",
      "Name: count, dtype: int64\n",
      "OrgSize:\n",
      "OrgSize\n",
      "20 to 99 employees                                    4262\n",
      "100 to 499 employees                                  3928\n",
      "10,000 or more employees                              2385\n",
      "1,000 to 4,999 employees                              2361\n",
      "10 to 19 employees                                    1705\n",
      "2 to 9 employees                                      1543\n",
      "500 to 999 employees                                  1393\n",
      "5,000 to 9,999 employees                               787\n",
      "I don’t know                                           241\n",
      "Just me - I am a freelancer, sole proprietor, etc.     107\n",
      "Name: count, dtype: int64\n",
      "PurchaseInfluence:\n",
      "PurchaseInfluence\n",
      "I have some influence               8094\n",
      "I have little or no influence       7302\n",
      "I have a great deal of influence    3306\n",
      "Name: count, dtype: int64\n",
      "Country:\n",
      "Country\n",
      "United States of America                                3989\n",
      "Germany                                                 1480\n",
      "Ukraine                                                 1214\n",
      "United Kingdom of Great Britain and Northern Ireland    1144\n",
      "India                                                    899\n",
      "                                                        ... \n",
      "Brunei Darussalam                                          1\n",
      "Burundi                                                    1\n",
      "Botswana                                                   1\n",
      "Mali                                                       1\n",
      "Congo, Republic of the...                                  1\n",
      "Name: count, Length: 157, dtype: int64\n",
      "ConvertedCompYearly:\n",
      "ConvertedCompYearly\n",
      "64444.0     237\n",
      "53703.0     237\n",
      "85925.0     180\n",
      "75184.0     174\n",
      "150000.0    172\n",
      "           ... \n",
      "32728.0       1\n",
      "12773.0       1\n",
      "17600.0       1\n",
      "13068.0       1\n",
      "161044.0      1\n",
      "Name: count, Length: 5251, dtype: int64\n"
     ]
    }
   ],
   "source": [
    "# check categorical features for imbalance\n",
    "cat_features = ['Age', 'RemoteWork', 'CodingActivities', 'EdLevel', 'LearnCode',\n",
    "       'DevType', 'OrgSize', 'PurchaseInfluence', 'Country', 'ConvertedCompYearly']\n",
    "\n",
    "for f in cat_features:\n",
    "    print(f'{f}:')\n",
    "    \n",
    "    print(df3[f].value_counts())"
   ]
  },
  {
   "cell_type": "markdown",
   "id": "24ba00e1",
   "metadata": {},
   "source": [
    "##### `CodingActivities`"
   ]
  },
  {
   "cell_type": "code",
   "execution_count": null,
   "id": "9ee6d5ed",
   "metadata": {},
   "outputs": [
    {
     "data": {
      "text/plain": [
       "CodingOutsideOfWork\n",
       "1    16442\n",
       "0     2288\n",
       "Name: count, dtype: int64"
      ]
     },
     "metadata": {},
     "output_type": "display_data"
    }
   ],
   "source": [
    "# For simplicity and essentially interpretability of the model we will only distinguish between those that code outside of work and those who don't\n",
    "# The number pf possible combination of coding activities outside of work would make the model very hard to interpret\n",
    "# print(df3['CodingActivities'].unique())\n",
    "\n",
    "# 0 = dont code outside of work\n",
    "df3['CodingOutsideOfWork'] = 1\n",
    "df3.loc[df3['CodingActivities'].str.contains(\"I don’t code outside of work\", na=False), 'CodingOutsideOfWork'] = 0\n",
    "df3.drop(['CodingActivities'], axis=1, inplace=True)\n",
    "df3.CodingOutsideOfWork.value_counts()"
   ]
  },
  {
   "cell_type": "markdown",
   "id": "dbf8f4f9",
   "metadata": {},
   "source": [
    "##### `LearnCode`"
   ]
  },
  {
   "cell_type": "code",
   "execution_count": null,
   "id": "070c87b5",
   "metadata": {},
   "outputs": [
    {
     "name": "stdout",
     "output_type": "stream",
     "text": [
      "PhysicalMedia\n",
      "1    9710\n",
      "0    9020\n",
      "Name: count, dtype: int64\n",
      "Bootcamp\n",
      "0    16823\n",
      "1     1907\n",
      "Name: count, dtype: int64\n",
      "Colleague\n",
      "0    13554\n",
      "1     5176\n",
      "Name: count, dtype: int64\n",
      "FriendFamily\n",
      "0    16911\n",
      "1     1819\n",
      "Name: count, dtype: int64\n",
      "Online\n",
      "1    9567\n",
      "0    9163\n",
      "Name: count, dtype: int64\n",
      "Job\n",
      "1    9922\n",
      "0    8808\n",
      "Name: count, dtype: int64\n",
      "OnlineOther\n",
      "1    15432\n",
      "0     3298\n",
      "Name: count, dtype: int64\n",
      "School\n",
      "1    9511\n",
      "0    9219\n",
      "Name: count, dtype: int64\n"
     ]
    }
   ],
   "source": [
    "# For the same reason (interpretability) we will only include one dummy / boolean for each learning type instead of including each possible combination of learning experiences as dummies\n",
    "\n",
    "df3['PhysicalMedia'] = 0\n",
    "df3.loc[df3['LearnCode'].str.contains('Books / Physical media', na=False), 'PhysicalMedia'] = 1\n",
    "print(df3.PhysicalMedia.value_counts())\n",
    "\n",
    "df3['Bootcamp'] = 0\n",
    "df3.loc[df3['LearnCode'].str.contains('Coding Bootcamp', na=False), 'Bootcamp'] = 1\n",
    "print(df3.Bootcamp.value_counts())\n",
    "\n",
    "\n",
    "df3['Colleague'] = 0\n",
    "df3.loc[df3['LearnCode'].str.contains('Colleague', na=False), 'Colleague'] = 1\n",
    "print(df3.Colleague.value_counts())\n",
    "\n",
    "\n",
    "df3['FriendFamily'] = 0\n",
    "df3.loc[df3['LearnCode'].str.contains('Friend or family member', na=False), 'FriendFamily'] = 1\n",
    "print(df3.FriendFamily.value_counts())\n",
    "\n",
    "\n",
    "df3['Online'] = 0\n",
    "df3.loc[df3['LearnCode'].str.contains('Online Courses or Certification', na=False), 'Online'] = 1\n",
    "print(df3.Online.value_counts())\n",
    "\n",
    "\n",
    "df3['Job'] = 0\n",
    "df3.loc[df3['LearnCode'].str.contains('On the job training', na=False), 'Job'] = 1\n",
    "print(df3.Job.value_counts())\n",
    "\n",
    "\n",
    "df3['OnlineOther'] = 0\n",
    "df3.loc[df3['LearnCode'].str.contains('Other online resources', na=False), 'OnlineOther'] = 1\n",
    "print(df3.OnlineOther.value_counts())\n",
    "\n",
    "\n",
    "df3['School'] = 0\n",
    "df3.loc[df3['LearnCode'].str.contains('School', na=False), 'School'] = 1\n",
    "print(df3.School.value_counts())\n",
    "\n",
    "df3.drop(['LearnCode'], axis=1, inplace=True)\n",
    "\n"
   ]
  },
  {
   "cell_type": "markdown",
   "id": "e662b3a2",
   "metadata": {},
   "source": [
    "##### `Age`\n",
    "\n",
    "*Unfortunately* age is available only in categories. we can treat it as ordinal and encode with `OrdinalEncoder`to keep as much information as possible. <br>\n",
    "\n",
    "*'I prefer no to say'* will be treated as missing value."
   ]
  },
  {
   "cell_type": "code",
   "execution_count": null,
   "id": "389c5d58",
   "metadata": {},
   "outputs": [
    {
     "data": {
      "text/plain": [
       "array(['18-24 years old', '35-44 years old', '25-34 years old',\n",
       "       '45-54 years old', '55-64 years old', '65 years or older',\n",
       "       'Under 18 years old', nan], dtype=object)"
      ]
     },
     "metadata": {},
     "output_type": "display_data"
    }
   ],
   "source": [
    "df3.replace(\n",
    "    {'Prefer not to say': np.nan}, inplace=True\n",
    ")\n",
    "df3.Age.unique()"
   ]
  },
  {
   "cell_type": "markdown",
   "id": "478f1193",
   "metadata": {},
   "source": [
    "##### `Countries`\n"
   ]
  },
  {
   "cell_type": "code",
   "execution_count": null,
   "id": "1d9f62a8",
   "metadata": {},
   "outputs": [],
   "source": [
    "df3['Country'].value_counts()"
   ]
  },
  {
   "cell_type": "markdown",
   "id": "5732cae0",
   "metadata": {},
   "source": [
    "As a first remedy for the large number of countries with sparse data we will use `frequency encoding`, making the **Assumption**  the frequency of the Country in this data is not due to some sampling bias but rather a reflection of economic factors. "
   ]
  },
  {
   "cell_type": "markdown",
   "id": "25741f5a",
   "metadata": {},
   "source": [
    "##### `RemoteWork`\n",
    "\n",
    "Could be considered ordinal &rarr; `Ordinal Encoding`"
   ]
  },
  {
   "cell_type": "code",
   "execution_count": 23,
   "id": "ee8af24f",
   "metadata": {},
   "outputs": [
    {
     "data": {
      "text/plain": [
       "RemoteWork\n",
       "Hybrid (some remote, some in-person)    8049\n",
       "Remote                                  7510\n",
       "In-person                               3169\n",
       "Name: count, dtype: int64"
      ]
     },
     "execution_count": 23,
     "metadata": {},
     "output_type": "execute_result"
    }
   ],
   "source": [
    "df3['RemoteWork'].value_counts()"
   ]
  },
  {
   "cell_type": "markdown",
   "id": "fbc78db1",
   "metadata": {},
   "source": [
    "##### `EdLevel`\n",
    "\n",
    "While there is some order of education level this does not hold true for all categories (different types rather than different level), therefore we ordinal encoding is not an option and we have to stick to `one-hot encoding`\n"
   ]
  },
  {
   "cell_type": "code",
   "execution_count": 24,
   "id": "f2fe7dd4",
   "metadata": {},
   "outputs": [
    {
     "data": {
      "text/plain": [
       "EdLevel\n",
       "Bachelor’s degree (B.A., B.S., B.Eng., etc.)                                          8745\n",
       "Master’s degree (M.A., M.S., M.Eng., MBA, etc.)                                       5462\n",
       "Some college/university study without earning a degree                                2108\n",
       "Secondary school (e.g. American high school, German Realschule or Gymnasium, etc.)     809\n",
       "Professional degree (JD, MD, Ph.D, Ed.D, etc.)                                         736\n",
       "Associate degree (A.A., A.S., etc.)                                                    611\n",
       "Something else                                                                         170\n",
       "Primary/elementary school                                                               89\n",
       "Name: count, dtype: int64"
      ]
     },
     "execution_count": 24,
     "metadata": {},
     "output_type": "execute_result"
    }
   ],
   "source": [
    "df3['EdLevel'].value_counts()"
   ]
  },
  {
   "cell_type": "code",
   "execution_count": null,
   "id": "1e7d91bf",
   "metadata": {},
   "outputs": [],
   "source": []
  },
  {
   "cell_type": "code",
   "execution_count": null,
   "id": "5788314e",
   "metadata": {},
   "outputs": [],
   "source": []
  },
  {
   "cell_type": "code",
   "execution_count": null,
   "id": "c655a043",
   "metadata": {},
   "outputs": [],
   "source": []
  },
  {
   "cell_type": "code",
   "execution_count": null,
   "id": "cb809013",
   "metadata": {},
   "outputs": [],
   "source": [
    "import numpy as np\n",
    "import pandas as pd\n",
    "from sklearn.base import BaseEstimator, TransformerMixin\n",
    "from sklearn.compose import ColumnTransformer\n",
    "from sklearn.pipeline import Pipeline\n",
    "from sklearn.preprocessing import StandardScaler\n",
    "from sklearn.impute import SimpleImputer\n",
    "from sklearn.linear_model import RidgeCV\n",
    "from sklearn.model_selection import train_test_split\n",
    "\n",
    "# --- 1. Custom Frequency Encoder ---\n",
    "class FrequencyEncoder(BaseEstimator, TransformerMixin):\n",
    "    def __init__(self):\n",
    "        self.freq_maps_ = {}\n",
    "\n",
    "    def fit(self, X, y=None):\n",
    "        for col in X.columns:\n",
    "            freq = X[col].value_counts(normalize=True)\n",
    "            self.freq_maps_[col] = freq\n",
    "        return self\n",
    "\n",
    "    def transform(self, X):\n",
    "        X_encoded = X.copy()\n",
    "        for col in X.columns:\n",
    "            X_encoded[col] = X[col].map(self.freq_maps_[col]).fillna(0)\n",
    "        return X_encoded\n",
    "\n",
    "# --- 2. Define feature groups ---\n",
    "categorical_cols = ['job', 'country', 'other_categorical_features']  # <-- put your actual categorical feature names here\n",
    "numerical_cols = ['years_of_training']\n",
    "\n",
    "# --- 3. Preprocessing steps ---\n",
    "categorical_pipeline = Pipeline([\n",
    "    ('imputer', SimpleImputer(strategy='most_frequent')),\n",
    "    ('freq_encoder', FrequencyEncoder())\n",
    "])\n",
    "\n",
    "numerical_pipeline = Pipeline([\n",
    "    ('imputer', SimpleImputer(strategy='median')),\n",
    "    ('scaler', StandardScaler())\n",
    "])\n",
    "\n",
    "preprocessor = ColumnTransformer([\n",
    "    ('cat', categorical_pipeline, categorical_cols),\n",
    "    ('num', numerical_pipeline, numerical_cols)\n",
    "])\n",
    "\n",
    "# --- 4. Full Ridge pipeline ---\n",
    "ridge_pipeline = Pipeline([\n",
    "    ('preprocessing', preprocessor),\n",
    "    ('ridge', RidgeCV(alphas=[0.1, 1.0, 10.0], scoring='neg_mean_squared_error'))\n",
    "])\n",
    "\n",
    "# --- 5. Train-test split (example) ---\n",
    "X = df.drop(columns=['salary'])  # Feature dataframe\n",
    "y = df['salary']                 # Target variable\n",
    "\n",
    "# Optional: Light clipping of extreme salary values\n",
    "salary_cap = np.percentile(y, 99)  # Top 1% capped\n",
    "y_clipped = np.clip(y, None, salary_cap)\n",
    "\n",
    "X_train, X_test, y_train, y_test = train_test_split(X, y_clipped, test_size=0.2, random_state=42)\n",
    "\n",
    "# --- 6. Fit the pipeline ---\n",
    "ridge_pipeline.fit(X_train, y_train)\n",
    "\n",
    "# --- 7. Predict on test set ---\n",
    "y_pred = ridge_pipeline.predict(X_test)\n",
    "\n",
    "# --- 8. Coefficients inspection (important for interpretability) ---\n",
    "feature_names = (\n",
    "    ridge_pipeline.named_steps['preprocessing']\n",
    "    .transformers_[0][1].named_steps['freq_encoder'].freq_maps_.keys()\n",
    ") | numerical_cols  # collect all feature names\n",
    "\n",
    "coefficients = ridge_pipeline.named_steps['ridge'].coef_\n",
    "\n",
    "# Create a DataFrame of feature importances\n",
    "coef_df = pd.DataFrame({\n",
    "    'Feature': feature_names,\n",
    "    'Coefficient': coefficients\n",
    "}).sort_values(by='Coefficient', key=abs, ascending=False)\n",
    "\n",
    "print(coef_df)\n"
   ]
  },
  {
   "cell_type": "code",
   "execution_count": null,
   "id": "80dd3693",
   "metadata": {},
   "outputs": [],
   "source": [
    "import numpy as np\n",
    "import pandas as pd\n",
    "from sklearn.base import BaseEstimator, TransformerMixin\n",
    "from sklearn.compose import ColumnTransformer\n",
    "from sklearn.pipeline import Pipeline\n",
    "from sklearn.preprocessing import StandardScaler\n",
    "from sklearn.impute import SimpleImputer\n",
    "from sklearn.linear_model import RidgeCV\n",
    "from sklearn.model_selection import train_test_split\n",
    "\n",
    "# --- 1. Custom Frequency Encoder ---\n",
    "class FrequencyEncoder(BaseEstimator, TransformerMixin):\n",
    "    def __init__(self):\n",
    "        self.freq_maps_ = {}\n",
    "\n",
    "    def fit(self, X, y=None):\n",
    "        for col in X.columns:\n",
    "            freq = X[col].value_counts(normalize=True)\n",
    "            self.freq_maps_[col] = freq\n",
    "        return self\n",
    "\n",
    "    def transform(self, X):\n",
    "        X_encoded = X.copy()\n",
    "        for col in X.columns:\n",
    "            X_encoded[col] = X[col].map(self.freq_maps_[col]).fillna(0)\n",
    "        return X_encoded\n",
    "\n",
    "# --- 2. Define feature groups ---\n",
    "categorical_cols = ['job', 'country', 'other_categorical_features']  # <-- Update with your actual categorical features\n",
    "numerical_cols = ['years_of_training']\n",
    "\n",
    "# --- 3. Preprocessing steps ---\n",
    "categorical_pipeline = Pipeline([\n",
    "    ('imputer', SimpleImputer(strategy='most_frequent')),\n",
    "    ('freq_encoder', FrequencyEncoder())\n",
    "])\n",
    "\n",
    "numerical_pipeline = Pipeline([\n",
    "    ('imputer', SimpleImputer(strategy='median')),\n",
    "    ('scaler', StandardScaler())\n",
    "])\n",
    "\n",
    "preprocessor = ColumnTransformer([\n",
    "    ('cat', categorical_pipeline, categorical_cols),\n",
    "    ('num', numerical_pipeline, numerical_cols)\n",
    "])\n",
    "\n",
    "# --- 4. Full Ridge pipeline ---\n",
    "ridge_pipeline = Pipeline([\n",
    "    ('preprocessing', preprocessor),\n",
    "    ('ridge', RidgeCV(alphas=[0.1, 1.0, 10.0], scoring='neg_mean_squared_error'))\n",
    "])\n",
    "\n",
    "# --- 5. Train-test split (example) ---\n",
    "X = df.drop(columns=['salary'])  # Feature dataframe\n",
    "y = df['salary']                 # Target variable\n",
    "\n",
    "# Optional: Light clipping of extreme salary values\n",
    "salary_cap = np.percentile(y, 99)  # Top 1% capped\n",
    "y_clipped = np.clip(y, None, salary_cap)\n",
    "\n",
    "X_train, X_test, y_train, y_test = train_test_split(X, y_clipped, test_size=0.2, random_state=42)\n",
    "\n",
    "# --- 6. Fit the pipeline ---\n",
    "ridge_pipeline.fit(X_train, y_train)\n",
    "\n",
    "# --- 7. Predict on test set ---\n",
    "y_pred = ridge_pipeline.predict(X_test)\n",
    "\n",
    "# --- 8. Automatically extract feature names (especially for large datasets) ---\n",
    "def get_feature_names(preprocessor, columns):\n",
    "    # Extract names after applying ColumnTransformer\n",
    "    categorical_names = [f\"{col} (freq_encoded)\" for col in columns['cat']] \n",
    "    numerical_names = columns['num']\n",
    "    \n",
    "    return categorical_names + numerical_names\n",
    "\n",
    "# Get feature names after all transformations\n",
    "feature_names = get_feature_names(ridge_pipeline.named_steps['preprocessing'], {\n",
    "    'cat': categorical_cols,\n",
    "    'num': numerical_cols\n",
    "})\n",
    "\n",
    "# --- 9. Coefficients inspection ---\n",
    "coefficients = ridge_pipeline.named_steps['ridge'].coef_\n",
    "\n",
    "# Create a DataFrame of feature importances\n",
    "coef_df = pd.DataFrame({\n",
    "    'Feature': feature_names,\n",
    "    'Coefficient': coefficients\n",
    "}).sort_values(by='Coefficient', key=abs, ascending=False)\n",
    "\n",
    "print(coef_df)\n"
   ]
  }
 ],
 "metadata": {
  "kernelspec": {
   "display_name": "venv_uda_2_6",
   "language": "python",
   "name": "python3"
  },
  "language_info": {
   "codemirror_mode": {
    "name": "ipython",
    "version": 3
   },
   "file_extension": ".py",
   "mimetype": "text/x-python",
   "name": "python",
   "nbconvert_exporter": "python",
   "pygments_lexer": "ipython3",
   "version": "3.11.1"
  }
 },
 "nbformat": 4,
 "nbformat_minor": 5
}
